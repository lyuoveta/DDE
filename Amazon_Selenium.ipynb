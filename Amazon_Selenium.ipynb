{
 "cells": [
  {
   "cell_type": "code",
   "execution_count": 6,
   "id": "24fd5aea",
   "metadata": {},
   "outputs": [],
   "source": [
    "# from selenium import webdriver\n",
    "from selenium.webdriver.common.by import By\n",
    "from selenium.webdriver.support.ui import WebDriverWait\n",
    "from selenium.webdriver.support import expected_conditions as EC\n",
    "import time\n",
    "from selenium.webdriver import Firefox, Chrome\n",
    "import pandas as pd\n",
    "import re\n",
    "from bs4 import BeautifulSoup as bs"
   ]
  },
  {
   "cell_type": "code",
   "execution_count": 7,
   "id": "0f526cf6",
   "metadata": {},
   "outputs": [],
   "source": [
    "def get_max_reviews(asin):\n",
    "\n",
    "    amazon_url_top = 'https://www.amazon.com/product-reviews/' + \\\n",
    "                    asin + \\\n",
    "                    '/ref=cm_cr_arp_d_viewopt_srt?reviewerType=all_reviews&sortBy=helpful&pageNumber=1'\n",
    "    amazon_url_recent = 'https://www.amazon.com/product-reviews/' + \\\n",
    "                    asin + \\\n",
    "                    '/ref=cm_cr_arp_d_viewopt_srt?reviewerType=all_reviews&sortBy=recent&pageNumber=1'\n",
    "    \n",
    "    url_list = [amazon_url_top, amazon_url_recent]\n",
    "\n",
    "    return url_list"
   ]
  },
  {
   "cell_type": "code",
   "execution_count": 8,
   "id": "02888dc3",
   "metadata": {},
   "outputs": [],
   "source": [
    "def scraper(url):\n",
    "\n",
    "    driver = Firefox()\n",
    "    driver.maximize_window()\n",
    "    driver.get(url)\n",
    "\n",
    "    product_data = {'product_name': [driver.find_elements(By.XPATH, '//a[@data-hook=\"product-link\"]')[0].text],\n",
    "                    'total_ratings': [driver.find_elements(By.XPATH, '//span[@data-hook=\"rating-out-of-text\"]')[0].text.split()[0].replace('.', ',')],\n",
    "                    'number_reviews': [driver.find_elements(By.XPATH,'//div[@data-hook=\"cr-filter-info-review-rating-count\"]')[0].text.split()[3].replace(',', '')]}\n",
    "\n",
    "    reviews_data = {'review_dates': [i.text.split('on')[-1] for i in driver.find_elements(By.XPATH, \"//span[@data-hook='review-date']\")],\n",
    "                    'review_places': [i.text.split('on')[0].split('the')[-1] for i in driver.find_elements(By.XPATH, \"//span[@data-hook='review-date']\")],\n",
    "                    'review_ratings': [i.get_attribute('textContent')[0] for i in driver.find_elements(By.XPATH, \"//i[@data-hook='review-star-rating']/span\")],\n",
    "                    'review_authors': [i.text for i in driver.find_elements(By.CSS_SELECTOR, '#cm_cr-review_list .a-profile-name') if i.text != ''],\n",
    "                    'review_titles': [i.text for i in driver.find_elements(By.XPATH, \"//a[@data-hook='review-title']/span\") if i.text != ''],\n",
    "                    'reviews': [i.text for i in driver.find_elements(By.XPATH, '//span[@data-hook=\"review-body\"]')]}        \n",
    "    for i in reviews_data:\n",
    "        print(len(reviews_data[i]))\n",
    "    for page in range(9):\n",
    "        try:\n",
    "            next_btn = driver.find_element(By.XPATH, \"//ul[@class='a-pagination']/li[2]/a\")\n",
    "            next_btn.click()\n",
    "            time.sleep(5)\n",
    "        except Exception as ex:\n",
    "            break\n",
    "        \n",
    "        reviews_data['review_dates'].extend([i.text.split('on')[-1] for i in driver.find_elements(By.XPATH, \"//span[@data-hook='review-date']\")])\n",
    "        reviews_data['review_places'].extend([i.text.split('on')[0].split('the')[-1] for i in driver.find_elements(By.XPATH, \"//span[@data-hook='review-date']\")])\n",
    "        reviews_data['review_ratings'].extend([i.get_attribute('textContent')[0] for i in driver.find_elements(By.XPATH, \"//i[@data-hook='review-star-rating']/span\")])\n",
    "        reviews_data['review_authors'].extend([i.text for i in driver.find_elements(By.CSS_SELECTOR, '#cm_cr-review_list .a-profile-name') if i.text != ''])\n",
    "        reviews_data['review_titles'].extend([i.text for i in driver.find_elements(By.XPATH, \"//a[@data-hook='review-title']/span\") if i.text != ''])\n",
    "        reviews_data['reviews'].extend([i.text for i in driver.find_elements(By.XPATH, '//span[@data-hook=\"review-body\"]')])\n",
    "        for i in reviews_data:\n",
    "            print(len(reviews_data[i]))\n",
    "    # df_product = pd.DataFrame(product_data).reindex(range(100)).ffill()\n",
    "\n",
    "    df_reviews = pd.DataFrame(reviews_data)\n",
    "\n",
    "    # df_full = pd.concat([df_product, df_reviews], axis=1, sort=False)\n",
    "\n",
    "    driver.close()\n",
    "    return df_reviews\n"
   ]
  },
  {
   "cell_type": "code",
   "execution_count": 9,
   "id": "1dd61f8d",
   "metadata": {},
   "outputs": [],
   "source": [
    "def core(asin_list):\n",
    "    try:\n",
    "        for asin in asin_list:\n",
    "            print(f\"IN PROCESS FOR: {asin}\")\n",
    "            url_list = get_max_reviews(asin)\n",
    "            df_main = pd.DataFrame()\n",
    "            for url in url_list:\n",
    "                df_new = scraper(url)\n",
    "                df_main = pd.concat([df_main, df_new])\n",
    "            df_main.to_csv(f'{asin}.csv', encoding='utf-8', index=False)\n",
    "            print(f'Success download {asin} file in root directory')\n",
    "    except Exception as e:\n",
    "        return f'Error: {e}'"
   ]
  },
  {
   "cell_type": "code",
   "execution_count": 10,
   "id": "ec47721f",
   "metadata": {},
   "outputs": [
    {
     "name": "stdout",
     "output_type": "stream",
     "text": [
      "IN PROCESS FOR: B009SZXM4E\n",
      "10\n",
      "10\n",
      "10\n",
      "12\n",
      "10\n",
      "10\n",
      "20\n",
      "20\n",
      "20\n",
      "22\n",
      "20\n",
      "20\n",
      "30\n",
      "30\n",
      "30\n",
      "32\n",
      "30\n",
      "30\n",
      "40\n",
      "40\n",
      "40\n",
      "42\n",
      "40\n",
      "40\n",
      "50\n",
      "50\n",
      "50\n",
      "52\n",
      "50\n",
      "50\n",
      "60\n",
      "60\n",
      "60\n",
      "62\n",
      "60\n",
      "60\n"
     ]
    },
    {
     "ename": "KeyboardInterrupt",
     "evalue": "",
     "output_type": "error",
     "traceback": [
      "\u001b[1;31m---------------------------------------------------------------------------\u001b[0m",
      "\u001b[1;31mKeyboardInterrupt\u001b[0m                         Traceback (most recent call last)",
      "Cell \u001b[1;32mIn[10], line 2\u001b[0m\n\u001b[0;32m      1\u001b[0m asin_list \u001b[38;5;241m=\u001b[39m [\u001b[38;5;124m'\u001b[39m\u001b[38;5;124mB009SZXM4E\u001b[39m\u001b[38;5;124m'\u001b[39m, \u001b[38;5;124m'\u001b[39m\u001b[38;5;124mB000OA6Z6O\u001b[39m\u001b[38;5;124m'\u001b[39m, \u001b[38;5;124m'\u001b[39m\u001b[38;5;124mB07GSGWZMB\u001b[39m\u001b[38;5;124m'\u001b[39m, \u001b[38;5;124m'\u001b[39m\u001b[38;5;124mB07S38C5WW\u001b[39m\u001b[38;5;124m'\u001b[39m]\n\u001b[1;32m----> 2\u001b[0m \u001b[43mcore\u001b[49m\u001b[43m(\u001b[49m\u001b[43masin_list\u001b[49m\u001b[43m)\u001b[49m\n",
      "Cell \u001b[1;32mIn[9], line 8\u001b[0m, in \u001b[0;36mcore\u001b[1;34m(asin_list)\u001b[0m\n\u001b[0;32m      6\u001b[0m df_main \u001b[38;5;241m=\u001b[39m pd\u001b[38;5;241m.\u001b[39mDataFrame()\n\u001b[0;32m      7\u001b[0m \u001b[38;5;28;01mfor\u001b[39;00m url \u001b[38;5;129;01min\u001b[39;00m url_list:\n\u001b[1;32m----> 8\u001b[0m     df_new \u001b[38;5;241m=\u001b[39m \u001b[43mscraper\u001b[49m\u001b[43m(\u001b[49m\u001b[43murl\u001b[49m\u001b[43m)\u001b[49m\n\u001b[0;32m      9\u001b[0m     df_main \u001b[38;5;241m=\u001b[39m pd\u001b[38;5;241m.\u001b[39mconcat([df_main, df_new])\n\u001b[0;32m     10\u001b[0m df_main\u001b[38;5;241m.\u001b[39mto_csv(\u001b[38;5;124mf\u001b[39m\u001b[38;5;124m'\u001b[39m\u001b[38;5;132;01m{\u001b[39;00masin\u001b[38;5;132;01m}\u001b[39;00m\u001b[38;5;124m.csv\u001b[39m\u001b[38;5;124m'\u001b[39m, encoding\u001b[38;5;241m=\u001b[39m\u001b[38;5;124m'\u001b[39m\u001b[38;5;124mutf-8\u001b[39m\u001b[38;5;124m'\u001b[39m, index\u001b[38;5;241m=\u001b[39m\u001b[38;5;28;01mFalse\u001b[39;00m)\n",
      "Cell \u001b[1;32mIn[8], line 23\u001b[0m, in \u001b[0;36mscraper\u001b[1;34m(url)\u001b[0m\n\u001b[0;32m     21\u001b[0m     next_btn \u001b[38;5;241m=\u001b[39m driver\u001b[38;5;241m.\u001b[39mfind_element(By\u001b[38;5;241m.\u001b[39mXPATH, \u001b[38;5;124m\"\u001b[39m\u001b[38;5;124m//ul[@class=\u001b[39m\u001b[38;5;124m'\u001b[39m\u001b[38;5;124ma-pagination\u001b[39m\u001b[38;5;124m'\u001b[39m\u001b[38;5;124m]/li[2]/a\u001b[39m\u001b[38;5;124m\"\u001b[39m)\n\u001b[0;32m     22\u001b[0m     next_btn\u001b[38;5;241m.\u001b[39mclick()\n\u001b[1;32m---> 23\u001b[0m     \u001b[43mtime\u001b[49m\u001b[38;5;241;43m.\u001b[39;49m\u001b[43msleep\u001b[49m\u001b[43m(\u001b[49m\u001b[38;5;241;43m5\u001b[39;49m\u001b[43m)\u001b[49m\n\u001b[0;32m     24\u001b[0m \u001b[38;5;28;01mexcept\u001b[39;00m \u001b[38;5;167;01mException\u001b[39;00m \u001b[38;5;28;01mas\u001b[39;00m ex:\n\u001b[0;32m     25\u001b[0m     \u001b[38;5;28;01mbreak\u001b[39;00m\n",
      "\u001b[1;31mKeyboardInterrupt\u001b[0m: "
     ]
    }
   ],
   "source": [
    "asin_list = ['B002EA99HE', 'B009SZXM4E', 'B000OA6Z6O', 'B07GSGWZMB', 'B07S38C5WW']\n",
    "core(asin_list)"
   ]
  }
 ],
 "metadata": {
  "kernelspec": {
   "display_name": "Python 3 (ipykernel)",
   "language": "python",
   "name": "python3"
  },
  "language_info": {
   "codemirror_mode": {
    "name": "ipython",
    "version": 3
   },
   "file_extension": ".py",
   "mimetype": "text/x-python",
   "name": "python",
   "nbconvert_exporter": "python",
   "pygments_lexer": "ipython3",
   "version": "3.12.0"
  }
 },
 "nbformat": 4,
 "nbformat_minor": 5
}
